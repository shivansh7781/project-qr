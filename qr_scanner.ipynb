{
 "cells": [
  {
   "cell_type": "code",
   "execution_count": 8,
   "metadata": {},
   "outputs": [],
   "source": [
    "import qrcode\n",
    "from PIL import Image\n",
    "qr = qrcode.QRCode(\n",
    "    version=1,\n",
    "    error_correction=qrcode.constants.ERROR_CORRECT_H,\n",
    "    box_size=20,\n",
    "    border=4\n",
    ")\n",
    "data = \"https://www.youtube.com/@WANNABEGAMING_\"\n",
    "qr.add_data(data)\n",
    "qr.make(fit=True)\n",
    "img = qr.make_image(fill_color=\"black\", back_color=\"yellow\")\n",
    "img.save(\"wannabee.png\")\n"
   ]
  }
 ],
 "metadata": {
  "kernelspec": {
   "display_name": "base",
   "language": "python",
   "name": "python3"
  },
  "language_info": {
   "codemirror_mode": {
    "name": "ipython",
    "version": 3
   },
   "file_extension": ".py",
   "mimetype": "text/x-python",
   "name": "python",
   "nbconvert_exporter": "python",
   "pygments_lexer": "ipython3",
   "version": "3.10.10"
  },
  "orig_nbformat": 4
 },
 "nbformat": 4,
 "nbformat_minor": 2
}
